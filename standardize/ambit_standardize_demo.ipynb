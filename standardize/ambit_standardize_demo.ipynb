{
 "cells": [
  {
   "cell_type": "markdown",
   "metadata": {},
   "source": [
    "# Chemical structure standardisation with AMBIT\n",
    "\n",
    "- ambitcli - command line \n",
    "- Guide and download: http://ambit.sourceforge.net/ambitcli_standardisation.html\n",
    "- Download: https://zenodo.org/record/1145812\n",
    "- Used to standardize [ExCAPE-DB](https://jcheminf.springeropen.com/articles/10.1186/s13321-017-0203-5)"
   ]
  },
  {
   "cell_type": "markdown",
   "metadata": {},
   "source": [
    "This is a Jupyter notebook using BeakerX kernels. The main kernel is Python, mainly to demonstrate the usage of Java code in Python notebook.  "
   ]
  },
  {
   "cell_type": "markdown",
   "metadata": {},
   "source": [
    "### Configuring Maven repositories and Maven dependencies"
   ]
  },
  {
   "cell_type": "code",
   "execution_count": 2,
   "metadata": {},
   "outputs": [
    {
     "data": {
      "application/vnd.jupyter.widget-view+json": {
       "model_id": "6ee00624-1282-4304-8660-7472dee6cd43",
       "version_major": 2,
       "version_minor": 0
      },
      "method": "display_data"
     },
     "metadata": {},
     "output_type": "display_data"
    },
    {
     "data": {
      "application/vnd.jupyter.widget-view+json": {
       "model_id": "23272971-28f4-4c80-88d7-c93b780bf6c5",
       "version_major": 2,
       "version_minor": 0
      },
      "method": "display_data"
     },
     "metadata": {},
     "output_type": "display_data"
    }
   ],
   "source": [
    "%%java\n",
    "%classpath config resolver mvnLocal\n",
    "%classpath config resolver nexus-idea-releases https://nexus.ideaconsult.net/content/repositories/releases\n",
    "%classpath config resolver nexus-idea-snapshots https://nexus.ideaconsult.net/content/repositories/snapshots\n",
    "%classpath add mvn ambit ambit2-tautomers 3.3.0-SNAPSHOT\n",
    "%classpath add mvn ambit ambit2-dbcli 3.3.0-SNAPSHOT"
   ]
  },
  {
   "cell_type": "markdown",
   "metadata": {},
   "source": [
    "### Standardize single structure"
   ]
  },
  {
   "cell_type": "code",
   "execution_count": 3,
   "metadata": {},
   "outputs": [
    {
     "name": "stdout",
     "output_type": "stream",
     "text": [
      "Clear isotopes false\tGenerate 2D false\tGenerate InChI true\tGenerate SMILES true\tAromatic false\tCanonical false\n",
      "Stereo from 2D false\tTautomers false\tImplicit H false\tNeutralise false\tSplit fragments false\n",
      "2018-08-03 15:19:25:624 +0300 [javash0] INFO  ConfigManager - Loading global configuration\n",
      "2018-08-03 15:19:25:628 +0300 [javash0] INFO  ConfigManager - Loading artefact configuration: jniinchi-1.03_1\n",
      "2018-08-03 15:19:25:632 +0300 [javash0] INFO  ClasspathRepository - Searching classpath for: jniinchi-1.03_1-WINDOWS-AMD64\n",
      "2018-08-03 15:19:25:635 +0300 [javash0] INFO  LocalRepository - Searching local repository for: jniinchi-1.03_1-WINDOWS-AMD64\n",
      "2018-08-03 15:19:25:643 +0300 [javash0] INFO  ManifestReader - Reading manifest\n"

     ]
    },
    {
     "data": {
      "text/plain": [
       "CC(=O)CC(C1=CC=CC=C1)C2=C(C3=CC=CC=C3OC2=O)O"
      ]
     },
     "execution_count": 3,
     "metadata": {},
     "output_type": "execute_result"
    }
   ],
   "source": [
    "%%java\n",
    "import ambit2.tautomers.processor.StructureStandardizer;\n",
    "import org.openscience.cdk.interfaces.IAtomContainer;\n",
    "import org.openscience.cdk.smiles.SmilesGenerator;\n",
    "import org.openscience.cdk.smiles.SmilesParser;\n",
    "import org.openscience.cdk.silent.SilentChemObjectBuilder;\n",
    "\n",
    "SmilesParser sp = new SmilesParser(SilentChemObjectBuilder.getInstance());\n",
    "IAtomContainer mol = sp.parseSmiles(\"CC(=O)CC(C1=CC=CC=C1)C2=C(C3=CC=CC=C3OC2=O)O\");\n",
    "StructureStandardizer std = new StructureStandardizer();\n",
    "System.out.println(String.format(\"Clear isotopes %s\\tGenerate 2D %s\\tGenerate InChI %s\\tGenerate SMILES %s\\tAromatic %s\\tCanonical %s\\nStereo from 2D %s\\tTautomers %s\\tImplicit H %s\\tNeutralise %s\\tSplit fragments %s\",\n",
    "        std.isClearIsotopes(),\n",
    "        std.isGenerate2D(),\n",
    "        std.isGenerateInChI(),\n",
    "        std.isGenerateSMILES(),\n",
    "        std.isGenerateSMILES_Aromatic(),\n",
    "        std.isGenerateSMILES_Canonical(),\n",
    "        std.isGenerateStereofrom2D(),\n",
    "        std.isGenerateTautomers(),\n",
    "        std.isImplicitHydrogens(),\n",
    "        std.isNeutralise(),\n",
    "        std.isSplitFragments()\n",
    "                                ));\n",
    "IAtomContainer mol_std = std.process(mol);\n",
    "return SmilesGenerator.generic().create(mol_std);"
   ]
  },
  {
   "cell_type": "markdown",
   "metadata": {},
   "source": [
    "### Standardize file with chemical structures\n",
    "- using tab-delimited file with SMILES column"
   ]
  },
  {
   "cell_type": "code",
   "execution_count": 14,
   "metadata": {},
   "outputs": [
    {
     "data": {
      "application/vnd.jupyter.widget-view+json": {
       "model_id": "d7d2cf2c2dad46878b3a389d6fe04aaf",
       "version_major": 2,
       "version_minor": 0
      }
     },
     "metadata": {},
     "output_type": "display_data"
    }
   ],
   "source": [
    "import pandas as pd\n",
    "df = pd.read_csv(\"test.txt\")\n",
    "(df)"
   ]
  },
  {
   "cell_type": "code",
   "execution_count": 12,
   "metadata": {},
   "outputs": [
    {
     "name": "stderr",
     "output_type": "stream",
     "text": [
      "INFO   InChI native library loaded in 1 msec \n",
      "INFO   Reading from test.txt Writing to test_std.txt\n",
      "INFO   Records read:1  [1.000      msec/record]\tprocessed:1  [441.000    msec/record]\terror:0\tskipped:0\tTotal time 442 msec.\n",
      "INFO   Records read:2  [0.500      msec/record]\tprocessed:2  [224.500    msec/record]\terror:0\tskipped:0\tTotal time 450 msec.\n",
      "INFO   Records read:2  [0.500      msec/record]\tprocessed:2  [224.500    msec/record]\terror:0\tskipped:0\tTotal time 450 msec.\n",
      "INFO   ambitcli-3.3.0-SNAPSHOT Records read:2  [0.500      msec/record]\tprocessed:2  [224.500    msec/record]\terror:0\tskipped:0\tTotal time 450 msec.\n"
     ]
    },
    {
     "data": {
      "text/plain": [
       "test_std.txt"
      ]
     },
     "execution_count": 6,
     "metadata": {},
     "output_type": "execute_result"
    }
   ],
   "source": [
    "%%java\n",
    "import ambit2.dbcli.AmbitCli;\n",
    "import ambit2.dbcli.CliOptions;\n",
    "\n",
    "String infile=\"test.txt\";\n",
    "String out = \"test_std.txt\";\n",
    "\n",
    "String[] args = new String[] { \"-a\", \"standardize\", \"-i\", infile, \"-m\", \"post\", \"-o\", out, \"-d\",\n",
    "            \"smiles=true\", \"-d\", \"inchi=true\", \"-d\", \"tautomers=true\" };\n",
    "CliOptions options = new CliOptions();\n",
    "if (options.parse(args))\n",
    "try {\n",
    "    AmbitCli cli = new AmbitCli(options);\n",
    "    cli.go(options.getCmd(), options.getSubcommand().name());\n",
    "} finally {\n",
    "    // (new File(out)).delete();\n",
    "}\n",
    "return out;"
   ]
  },
  {
   "cell_type": "code",
   "execution_count": 24,
   "metadata": {},
   "outputs": [
    {
     "data": {
      "application/vnd.jupyter.widget-view+json": {
       "model_id": "c286a9a399834d46b0b994db581d343f",
       "version_major": 2,
       "version_minor": 0
      }
     },
     "metadata": {},
     "output_type": "display_data"
    }
   ],
   "source": [
    "df=pd.read_csv(\"./test_std.txt\",sep='\\t', keep_default_na=False)\n",
    "(df)"
   ]
  },
  {
   "cell_type": "code",
   "execution_count": null,
   "metadata": {},
   "outputs": [],
   "source": []
  }
 ],
 "metadata": {
  "kernelspec": {
   "display_name": "Python 3",
   "language": "python",
   "name": "python3"
  },
  "language_info": {
   "codemirror_mode": {
    "name": "ipython",
    "version": 3
   },
   "file_extension": ".py",
   "mimetype": "text/x-python",
   "name": "python",
   "nbconvert_exporter": "python",
   "pygments_lexer": "ipython3",
   "version": "3.6.6"
  },
  "toc": {
   "base_numbering": 1,
   "nav_menu": {},
   "number_sections": false,
   "sideBar": false,
   "skip_h1_title": false,
   "title_cell": "Table of Contents",
   "title_sidebar": "Contents",
   "toc_cell": false,
   "toc_position": {},
   "toc_section_display": false,
   "toc_window_display": false
  }
 },
 "nbformat": 4,
 "nbformat_minor": 2
}
