{
 "cells": [
  {
   "cell_type": "markdown",
   "metadata": {},
   "source": [
    "# ExCAPE DB\n",
    "\n",
    "- https://solr.ideaconsult.net/search/excape/?search=TP53\n",
    "- https://apps.ideaconsult.net/excape"
   ]
  },
  {
   "cell_type": "code",
   "execution_count": 185,
   "metadata": {},
   "outputs": [
    {
     "name": "stderr",
     "output_type": "stream",
     "text": [
      "2018-09-17 11:47:14,466  DEBUG    Started at nt \t2018-09-17 11:47:14.466422\n"
     ]
    }
   ],
   "source": [
    "import pandas as pd\n",
    "import json\n",
    "import urllib3\n",
    "import os, datetime\n",
    "import seaborn as sns\n",
    "from urllib.parse import urlencode\n",
    "\n",
    "urllib3.disable_warnings()\n",
    "import logging\n",
    "from logging.config import fileConfig\n",
    "fileConfig('logging_config.ini')\n",
    "global logger\n",
    "logger = logging.getLogger()\n",
    "logger.debug('Started at %s \\t%s',os.name, datetime.datetime.now())\n",
    "\n"
   ]
  },
  {
   "cell_type": "code",
   "execution_count": 181,
   "metadata": {},
   "outputs": [],
   "source": [
    "httpmanager = urllib3.PoolManager()"
   ]
  },
  {
   "cell_type": "code",
   "execution_count": 135,
   "metadata": {},
   "outputs": [],
   "source": [
    "\n",
    "def getSolrQuery(q,url='https://solr.ideaconsult.net/solr/excape_shard1_replica1/select'):\n",
    "\n",
    "    fl = \"type_s:\\\"study\\\",s_uuid,name:s_uuid,doc_uuid:id,topcategory:\\\"TOX\\\",endpointcategory:DB,guidance:Gene_Symbol,name:s_uuid,publicname:Original_Entry_ID,reference:Original_Assay_ID,reference_owner:DB,reference_year:\\\"2016\\\",content:\\\"\\\",owner_name:DB,loValue:pXC50,owner_name:\\\"ExCAPE\\\",substanceType:DB,Tax_ID,Entrez_ID,effectendpoint:\\\"pXC50\\\",interpretation_result:Activity_Flag,unit:\\\"\\\"\"\n",
    "    \n",
    "    query = {\n",
    "        'url' :  url,\n",
    "        'fl': fl,\n",
    "        'fq': \"{!collapse field=s_uuid}\",\n",
    "        'q': q\n",
    "        }\n",
    "    #y = json.loads(x)\n",
    "    return query\n",
    "\n",
    "def sendSolrRequest(httpmanager,query,nrows=100):\n",
    "        rows=[]\n",
    "        logger= logging.getLogger()\n",
    "\n",
    "        logger.info(\"Sending query to %s\",query['url'])\n",
    "        result = httpmanager.request('GET', query['url'],\n",
    "                fields={\"q\":query['q'], \"fl\" : query['fl'], \"rows\": 100000, \"fq\" : query['fq'],  \"expand\": \"true\",\n",
    "                        \"expand.rows\": 1000, \"rows\": nrows,\"wt\": \"json\",\"json.nl\": \"map\"},\n",
    "                headers={\n",
    "                 #'Accept': 'application/json'\n",
    "                 }                \n",
    "                 )\n",
    "        logger.info(\"Status %s\",result.status)\n",
    "        data = json.loads(result.data.decode('utf-8'))\n",
    "        if (result.status==200):\n",
    "            #display(data)\n",
    "            logger.info('Received response found {:d} docs {:d}'.format(data['response']['numFound'],len(data['response']['docs'])))\n",
    "   \n",
    "            #logger.debug(json.dumps(data, indent=2))\n",
    "            print(\"parseSolrRequest\")\n",
    "            try:\n",
    "                return parseSolrRequest(docs=data['response']['docs'],rows=rows)    \n",
    "            except Exception as err:\n",
    "                print(err)\n",
    "\n",
    "        else:\n",
    "            logger.error(\"Status %s\",result.status)\n",
    "            logger.debug(data)\n",
    "        return rows   \n",
    "    \n",
    "def parseSolrRequest(docs,rows):    \n",
    "    for doc in docs:\n",
    "        #logger.info(json.dumps(doc, indent=2))\n",
    "        #print(type(doc))\n",
    "        rows.append(doc)\n",
    "    return rows\n",
    "\n",
    "def getCompound_json(http,inchikey,ambit_url=\"https://apps.ideaconsult.net/excape\"):\n",
    "        logger= logging.getLogger()\n",
    "        #url = (ambit_url + \"/query/compound/search/all?search=\" + substance_uuid + \"&media=application/json\")\n",
    "        url = '{}/query/compound/inchikey/all?search={}&media=application/json'.format(ambit_url,inchikey)\n",
    "        result = http.request('GET', url )\n",
    "        #logger.debug(url)        \n",
    "        if (result.status==200):\n",
    "            compound = json.loads(result.data.decode('utf-8'))\n",
    "            return compound\n",
    "        else:\n",
    "            logger.error(result.status)\n",
    "            return None\n",
    "        \n",
    "def getCompound_mol(http,inchikey,ambit_url=\"https://apps.ideaconsult.net/excape\"):\n",
    "        logger= logging.getLogger()\n",
    "        params = urlencode({ \"search\" : inchikey, \"media\" : \"chemical/x-mdl-sdfile\"})\n",
    "        url = ('{}/query/compound/inchikey/all'.format(ambit_url) + \"?\" +  params)\n",
    "        \n",
    "        result = http.request('GET', url )\n",
    "        if (result.status==200):\n",
    "            return result.data.decode(\"utf-8\") \n",
    "        else:\n",
    "            logger.error(result.status)\n",
    "            return None        \n",
    "        \n",
    "def getCompound_similarity(http,query,ambit_url=\"https://apps.ideaconsult.net/excape\", threshold=0.8 , media=\"chemical/x-mdl-sdfile\", page=0, pagesize=10):\n",
    "        logger= logging.getLogger()\n",
    "        params = urlencode({ \"search\" : query,\"type\": \"auto\", \"threshold\" : threshold, \"media\" :media, \"page\" : page, \"pagesize\" : pagesize})\n",
    "\n",
    "        url = ('{}/query/similarity'.format(ambit_url) + \"?\" +  params)\n",
    "        \n",
    "        result = http.request('GET', url )\n",
    "        if (result.status==200):\n",
    "            return result.data.decode(\"utf-8\") \n",
    "        else:\n",
    "            logger.error(result.status)\n",
    "            return None        "
   ]
  },
  {
   "cell_type": "code",
   "execution_count": 136,
   "metadata": {},
   "outputs": [
    {
     "name": "stderr",
     "output_type": "stream",
     "text": [
      "2018-09-17 09:48:36,201  INFO     {'url': 'https://solr.ideaconsult.net/solr/excape_shard1_replica1/select', 'fl': 'type_s:\"study\",s_uuid,name:s_uuid,doc_uuid:id,topcategory:\"TOX\",endpointcategory:DB,guidance:Gene_Symbol,name:s_uuid,publicname:Original_Entry_ID,reference:Original_Assay_ID,reference_owner:DB,reference_year:\"2016\",content:\"\",owner_name:DB,loValue:pXC50,owner_name:\"ExCAPE\",substanceType:DB,Tax_ID,Entrez_ID,effectendpoint:\"pXC50\",interpretation_result:Activity_Flag,unit:\"\"', 'fq': '{!collapse field=s_uuid}', 'q': 'TP53'}\n"
     ]
    }
   ],
   "source": [
    "query = getSolrQuery('TP53')\n",
    "logger.info(query)"
   ]
  },
  {
   "cell_type": "code",
   "execution_count": 137,
   "metadata": {},
   "outputs": [
    {
     "name": "stderr",
     "output_type": "stream",
     "text": [
      "2018-09-17 09:48:36,684  INFO     Sending query to https://solr.ideaconsult.net/solr/excape_shard1_replica1/select\n",
      "2018-09-17 09:50:16,075  INFO     Status 200\n",
      "2018-09-17 09:50:16,831  INFO     Received response found 388890 docs 100000\n"
     ]
    },
    {
     "name": "stdout",
     "output_type": "stream",
     "text": [
      "parseSolrRequest\n"
     ]
    }
   ],
   "source": [
    "rows=sendSolrRequest(httpmanager,query,nrows=100000)"
   ]
  },
  {
   "cell_type": "code",
   "execution_count": 138,
   "metadata": {},
   "outputs": [],
   "source": [
    "df = pd.DataFrame(rows)"
   ]
  },
  {
   "cell_type": "code",
   "execution_count": 139,
   "metadata": {},
   "outputs": [
    {
     "data": {
      "text/html": [
       "<div>\n",
       "<style scoped>\n",
       "    .dataframe tbody tr th:only-of-type {\n",
       "        vertical-align: middle;\n",
       "    }\n",
       "\n",
       "    .dataframe tbody tr th {\n",
       "        vertical-align: top;\n",
       "    }\n",
       "\n",
       "    .dataframe thead th {\n",
       "        text-align: right;\n",
       "    }\n",
       "</style>\n",
       "<table border=\"1\" class=\"dataframe\">\n",
       "  <thead>\n",
       "    <tr style=\"text-align: right;\">\n",
       "      <th></th>\n",
       "      <th>Entrez_ID</th>\n",
       "      <th>Tax_ID</th>\n",
       "      <th>content</th>\n",
       "      <th>doc_uuid</th>\n",
       "      <th>effectendpoint</th>\n",
       "      <th>endpointcategory</th>\n",
       "      <th>guidance</th>\n",
       "      <th>interpretation_result</th>\n",
       "      <th>loValue</th>\n",
       "      <th>name</th>\n",
       "      <th>owner_name</th>\n",
       "      <th>publicname</th>\n",
       "      <th>reference</th>\n",
       "      <th>reference_owner</th>\n",
       "      <th>reference_year</th>\n",
       "      <th>s_uuid</th>\n",
       "      <th>substanceType</th>\n",
       "      <th>topcategory</th>\n",
       "      <th>type_s</th>\n",
       "      <th>unit</th>\n",
       "    </tr>\n",
       "  </thead>\n",
       "  <tbody>\n",
       "    <tr>\n",
       "      <th>0</th>\n",
       "      <td>7157</td>\n",
       "      <td>9606</td>\n",
       "      <td></td>\n",
       "      <td>449e4133-9160-4bf9-bcd3-5655facb9c63</td>\n",
       "      <td>pXC50</td>\n",
       "      <td>pubchem</td>\n",
       "      <td>TP53</td>\n",
       "      <td>N</td>\n",
       "      <td>NaN</td>\n",
       "      <td>BGHCVCJVXZWKCC-UHFFFAOYNA-N</td>\n",
       "      <td>pubchem</td>\n",
       "      <td>12389</td>\n",
       "      <td>651631</td>\n",
       "      <td>pubchem</td>\n",
       "      <td>2016</td>\n",
       "      <td>BGHCVCJVXZWKCC-UHFFFAOYNA-N</td>\n",
       "      <td>pubchem</td>\n",
       "      <td>TOX</td>\n",
       "      <td>study</td>\n",
       "      <td></td>\n",
       "    </tr>\n",
       "    <tr>\n",
       "      <th>1</th>\n",
       "      <td>7157</td>\n",
       "      <td>9606</td>\n",
       "      <td></td>\n",
       "      <td>cdf2b1ef-e61f-4437-b56f-c6e22ae34b3d</td>\n",
       "      <td>pXC50</td>\n",
       "      <td>pubchem</td>\n",
       "      <td>TP53</td>\n",
       "      <td>N</td>\n",
       "      <td>NaN</td>\n",
       "      <td>BFDNZQUBFCYTIC-UHFFFAOYNA-N</td>\n",
       "      <td>pubchem</td>\n",
       "      <td>13000</td>\n",
       "      <td>651631</td>\n",
       "      <td>pubchem</td>\n",
       "      <td>2016</td>\n",
       "      <td>BFDNZQUBFCYTIC-UHFFFAOYNA-N</td>\n",
       "      <td>pubchem</td>\n",
       "      <td>TOX</td>\n",
       "      <td>study</td>\n",
       "      <td></td>\n",
       "    </tr>\n",
       "    <tr>\n",
       "      <th>2</th>\n",
       "      <td>7157</td>\n",
       "      <td>9606</td>\n",
       "      <td></td>\n",
       "      <td>457a5860-b210-4793-8528-83ed5a08a848</td>\n",
       "      <td>pXC50</td>\n",
       "      <td>pubchem</td>\n",
       "      <td>TP53</td>\n",
       "      <td>N</td>\n",
       "      <td>NaN</td>\n",
       "      <td>COBPKKZHLDDMTB-UHFFFAOYNA-N</td>\n",
       "      <td>pubchem</td>\n",
       "      <td>8923</td>\n",
       "      <td>651743</td>\n",
       "      <td>pubchem</td>\n",
       "      <td>2016</td>\n",
       "      <td>COBPKKZHLDDMTB-UHFFFAOYNA-N</td>\n",
       "      <td>pubchem</td>\n",
       "      <td>TOX</td>\n",
       "      <td>study</td>\n",
       "      <td></td>\n",
       "    </tr>\n",
       "    <tr>\n",
       "      <th>3</th>\n",
       "      <td>7157</td>\n",
       "      <td>9606</td>\n",
       "      <td></td>\n",
       "      <td>65de4a1f-5caf-485e-8140-e2a1333e0a3a</td>\n",
       "      <td>pXC50</td>\n",
       "      <td>pubchem</td>\n",
       "      <td>TP53</td>\n",
       "      <td>N</td>\n",
       "      <td>NaN</td>\n",
       "      <td>MDAXKAUIABOHTD-UHFFFAOYNA-N</td>\n",
       "      <td>pubchem</td>\n",
       "      <td>64964</td>\n",
       "      <td>504706</td>\n",
       "      <td>pubchem</td>\n",
       "      <td>2016</td>\n",
       "      <td>MDAXKAUIABOHTD-UHFFFAOYNA-N</td>\n",
       "      <td>pubchem</td>\n",
       "      <td>TOX</td>\n",
       "      <td>study</td>\n",
       "      <td></td>\n",
       "    </tr>\n",
       "    <tr>\n",
       "      <th>4</th>\n",
       "      <td>7157</td>\n",
       "      <td>9606</td>\n",
       "      <td></td>\n",
       "      <td>425ae9cc-f789-400d-80ab-e3f6393aa66d</td>\n",
       "      <td>pXC50</td>\n",
       "      <td>pubchem</td>\n",
       "      <td>TP53</td>\n",
       "      <td>N</td>\n",
       "      <td>NaN</td>\n",
       "      <td>JVGPVVUTUMQJKL-UHFFFAOYNA-N</td>\n",
       "      <td>pubchem</td>\n",
       "      <td>8196</td>\n",
       "      <td>924</td>\n",
       "      <td>pubchem</td>\n",
       "      <td>2016</td>\n",
       "      <td>JVGPVVUTUMQJKL-UHFFFAOYNA-N</td>\n",
       "      <td>pubchem</td>\n",
       "      <td>TOX</td>\n",
       "      <td>study</td>\n",
       "      <td></td>\n",
       "    </tr>\n",
       "  </tbody>\n",
       "</table>\n",
       "</div>"
      ],
      "text/plain": [
       "   Entrez_ID  Tax_ID content                              doc_uuid  \\\n",
       "0       7157    9606          449e4133-9160-4bf9-bcd3-5655facb9c63   \n",
       "1       7157    9606          cdf2b1ef-e61f-4437-b56f-c6e22ae34b3d   \n",
       "2       7157    9606          457a5860-b210-4793-8528-83ed5a08a848   \n",
       "3       7157    9606          65de4a1f-5caf-485e-8140-e2a1333e0a3a   \n",
       "4       7157    9606          425ae9cc-f789-400d-80ab-e3f6393aa66d   \n",
       "\n",
       "  effectendpoint endpointcategory guidance interpretation_result  loValue  \\\n",
       "0          pXC50          pubchem     TP53                     N      NaN   \n",
       "1          pXC50          pubchem     TP53                     N      NaN   \n",
       "2          pXC50          pubchem     TP53                     N      NaN   \n",
       "3          pXC50          pubchem     TP53                     N      NaN   \n",
       "4          pXC50          pubchem     TP53                     N      NaN   \n",
       "\n",
       "                          name owner_name publicname  reference  \\\n",
       "0  BGHCVCJVXZWKCC-UHFFFAOYNA-N    pubchem      12389     651631   \n",
       "1  BFDNZQUBFCYTIC-UHFFFAOYNA-N    pubchem      13000     651631   \n",
       "2  COBPKKZHLDDMTB-UHFFFAOYNA-N    pubchem       8923     651743   \n",
       "3  MDAXKAUIABOHTD-UHFFFAOYNA-N    pubchem      64964     504706   \n",
       "4  JVGPVVUTUMQJKL-UHFFFAOYNA-N    pubchem       8196        924   \n",
       "\n",
       "  reference_owner reference_year                       s_uuid substanceType  \\\n",
       "0         pubchem           2016  BGHCVCJVXZWKCC-UHFFFAOYNA-N       pubchem   \n",
       "1         pubchem           2016  BFDNZQUBFCYTIC-UHFFFAOYNA-N       pubchem   \n",
       "2         pubchem           2016  COBPKKZHLDDMTB-UHFFFAOYNA-N       pubchem   \n",
       "3         pubchem           2016  MDAXKAUIABOHTD-UHFFFAOYNA-N       pubchem   \n",
       "4         pubchem           2016  JVGPVVUTUMQJKL-UHFFFAOYNA-N       pubchem   \n",
       "\n",
       "  topcategory type_s unit  \n",
       "0         TOX  study       \n",
       "1         TOX  study       \n",
       "2         TOX  study       \n",
       "3         TOX  study       \n",
       "4         TOX  study       "
      ]
     },
     "execution_count": 139,
     "metadata": {},
     "output_type": "execute_result"
    }
   ],
   "source": [
    "(df.head())"
   ]
  },
  {
   "cell_type": "code",
   "execution_count": 140,
   "metadata": {},
   "outputs": [
    {
     "data": {
      "text/plain": [
       "(100000, 20)"
      ]
     },
     "execution_count": 140,
     "metadata": {},
     "output_type": "execute_result"
    }
   ],
   "source": [
    "(df.shape)"
   ]
  },
  {
   "cell_type": "code",
   "execution_count": 141,
   "metadata": {},
   "outputs": [
    {
     "data": {
      "image/png": "[encoded data removed]",
      "text/plain": [
       "<matplotlib.figure.Figure at 0xc6d0518>"
      ]
     },
     "metadata": {},
     "output_type": "display_data"
    }
   ],
   "source": [
    "actives = df.loc[df['interpretation_result']=='A']\n",
    "ax=sns.distplot(actives['loValue'], axlabel=\"pXC50\")"
   ]
  },
  {
   "cell_type": "code",
   "execution_count": 142,
   "metadata": {},
   "outputs": [],
   "source": [
    "mol=getCompound_mol(http,inchikey=\"BGHCVCJVXZWKCC-UHFFFAOYNA-N\")"
   ]
  },
  {
   "cell_type": "code",
   "execution_count": 143,
   "metadata": {},
   "outputs": [
    {
     "data": {
      "text/plain": [
       "'\\n  CDK     0917180950\\n\\n 14 13  0  0  0  0  0  0  0  0999 V2000\\n    0.0000    0.0000    0.0000 C   0  0  0  0  0  0  0  0  0  0  0  0\\n    0.0000    0.0000    0.0000 C   0  0  0  0  0  0  0  0  0  0  0  0\\n    0.0000    0.0000    0.0000 C   0  0  0  0  0  0  0  0  0  0  0  0\\n    0.0000    0.0000    0.0000 C   0  0  0  0  0  0  0  0  0  0  0  0\\n    0.0000    0.0000    0.0000 C   0  0  0  0  0  0  0  0  0  0  0  0\\n    0.0000    0.0000    0.0000 C   0  0  0  0  0  0  0  0  0  0  0  0\\n    0.0000    0.0000    0.0000 C   0  0  0  0  0  0  0  0  0  0  0  0\\n    0.0000    0.0000    0.0000 C   0  0  0  0  0  0  0  0  0  0  0  0\\n    0.0000    0.0000    0.0000 C   0  0  0  0  0  0  0  0  0  0  0  0\\n    0.0000    0.0000    0.0000 C   0  0  0  0  0  0  0  0  0  0  0  0\\n    0.0000    0.0000    0.0000 C   0  0  0  0  0  0  0  0  0  0  0  0\\n    0.0000    0.0000    0.0000 C   0  0  0  0  0  0  0  0  0  0  0  0\\n    0.0000    0.0000    0.0000 C   0  0  0  0  0  0  0  0  0  0  0  0\\n    0.0000    0.0000    0.0000 C   0  0  0  0  0  0  0  0  0  0  0  0\\n  1  2  1  0  0  0  0 \\n  2  3  1  0  0  0  0 \\n  3  4  1  0  0  0  0 \\n  4  5  1  0  0  0  0 \\n  5  6  1  0  0  0  0 \\n  6  7  1  0  0  0  0 \\n  7  8  1  0  0  0  0 \\n  1  9  1  0  0  0  0 \\n  9 10  1  0  0  0  0 \\n 10 11  1  0  0  0  0 \\n 11 12  1  0  0  0  0 \\n 12 13  1  0  0  0  0 \\n 13 14  1  0  0  0  0 \\nM  END\\r\\n$$$$'"
      ]
     },
     "execution_count": 143,
     "metadata": {},
     "output_type": "execute_result"
    }
   ],
   "source": [
    "(mol)"
   ]
  },
  {
   "cell_type": "code",
   "execution_count": 172,
   "metadata": {},
   "outputs": [],
   "source": [
    "dataset = getCompound_json(http,inchikey=\"BGHCVCJVXZWKCC-UHFFFAOYNA-N\")\n"
   ]
  },
  {
   "cell_type": "code",
   "execution_count": 196,
   "metadata": {},
   "outputs": [
    {
     "name": "stderr",
     "output_type": "stream",
     "text": [
      "2018-09-17 11:51:28,986  DEBUG    STREAM b'IHDR' 16 13\n",
      "2018-09-17 11:51:28,987  DEBUG    STREAM b'IDAT' 41 901\n"
     ]
    },
    {
     "name": "stdout",
     "output_type": "stream",
     "text": [
      "InChI=1/C14H30/c1-3-5-7-9-11-13-14-12-10-8-6-4-2/h3-14H2,1-2H3\n",
      "https://apps.ideaconsult.net/excape/compound/68503\n"
     ]
    },
    {
     "data": {
      "image/png": "[encoded data removed]",
      "text/plain": [
       "<PIL.PngImagePlugin.PngImageFile image mode=RGBA size=250x250 at 0xCB01CF8>"
      ]
     },
     "metadata": {},
     "output_type": "display_data"
    }
   ],
   "source": [
    "from PIL import Image\n",
    "import urllib.request\n",
    "import io\n",
    "for data_entry in dataset['dataEntry']:\n",
    "    print(data_entry['compound']['inchi'])\n",
    "    url = data_entry['compound']['URI']\n",
    "    print(url)\n",
    "\n",
    "    im = urllib.request.urlopen('{}?media=image/png'.format(url))\n",
    "    image_file = io.BytesIO(im.read())\n",
    "    display(Image.open(image_file))\n"
   ]
  },
  {
   "cell_type": "markdown",
   "metadata": {},
   "source": [
    "## Similarity search demo"
   ]
  },
  {
   "cell_type": "code",
   "execution_count": 146,
   "metadata": {},
   "outputs": [
    {
     "name": "stdout",
     "output_type": "stream",
     "text": [
      "\n",
      "  CDK     0917180950\n",
      "\n",
      " 18 18  0  0  0  0  0  0  0  0999 V2000\n",
      "    0.0000    0.0000    0.0000 C   0  0  0  0  0  0  0  0  0  0  0  0\n",
      "    0.0000    0.0000    0.0000 C   0  0  0  0  0  0  0  0  0  0  0  0\n",
      "    0.0000    0.0000    0.0000 C   0  0  0  0  0  0  0  0  0  0  0  0\n",
      "    0.0000    0.0000    0.0000 C   0  0  0  0  0  0  0  0  0  0  0  0\n",
      "    0.0000    0.0000    0.0000 C   0  0  0  0  0  0  0  0  0  0  0  0\n",
      "    0.0000    0.0000    0.0000 C   0  0  0  0  0  0  0  0  0  0  0  0\n",
      "    0.0000    0.0000    0.0000 C   0  0  0  0  0  0  0  0  0  0  0  0\n",
      "    0.0000    0.0000    0.0000 C   0  0  0  0  0  0  0  0  0  0  0  0\n",
      "    0.0000    0.0000    0.0000 C   0  0  0  0  0  0  0  0  0  0  0  0\n",
      "    0.0000    0.0000    0.0000 C   0  0  0  0  0  0  0  0  0  0  0  0\n",
      "    0.0000    0.0000    0.0000 C   0  0  0  0  0  0  0  0  0  0  0  0\n",
      "    0.0000    0.0000    0.0000 C   0  0  0  0  0  0  0  0  0  0  0  0\n",
      "    0.0000    0.0000    0.0000 C   0  0  0  0  0  0  0  0  0  0  0  0\n",
      "    0.0000    0.0000    0.0000 C   0  0  0  0  0  0  0  0  0  0  0  0\n",
      "    0.0000    0.0000    0.0000 C   0  0  0  0  0  0  0  0  0  0  0  0\n",
      "    0.0000    0.0000    0.0000 C   0  0  0  0  0  0  0  0  0  0  0  0\n",
      "    0.0000    0.0000    0.0000 C   0  0  0  0  0  0  0  0  0  0  0  0\n",
      "    0.0000    0.0000    0.0000 C   0  0  0  0  0  0  0  0  0  0  0  0\n",
      "  1  2  1  0  0  0  0 \n",
      "  2  3  1  0  0  0  0 \n",
      "  3  4  1  0  0  0  0 \n",
      "  4  5  1  0  0  0  0 \n",
      "  5  6  1  0  0  0  0 \n",
      "  6  7  1  0  0  0  0 \n",
      "  7  8  2  0  0  0  0 \n",
      "  8  9  1  0  0  0  0 \n",
      "  9 10  2  0  0  0  0 \n",
      " 10 11  1  0  0  0  0 \n",
      " 11 12  2  0  0  0  0 \n",
      "  7 12  1  0  0  0  0 \n",
      "  1 13  1  0  0  0  0 \n",
      " 13 14  1  0  0  0  0 \n",
      " 14 15  1  0  0  0  0 \n",
      " 15 16  1  0  0  0  0 \n",
      " 16 17  1  0  0  0  0 \n",
      " 17 18  1  0  0  0  0 \n",
      "M  END\r\n",
      "$$$$\r\n",
      "\n",
      "  CDK     0917180950\n",
      "\n",
      " 15 15  0  0  0  0  0  0  0  0999 V2000\n",
      "    0.0000    0.0000    0.0000 C   0  0  0  0  0  0  0  0  0  0  0  0\n",
      "    0.0000    0.0000    0.0000 C   0  0  0  0  0  0  0  0  0  0  0  0\n",
      "    0.0000    0.0000    0.0000 C   0  0  0  0  0  0  0  0  0  0  0  0\n",
      "    0.0000    0.0000    0.0000 C   0  0  0  0  0  0  0  0  0  0  0  0\n",
      "    0.0000    0.0000    0.0000 C   0  0  0  0  0  0  0  0  0  0  0  0\n",
      "    0.0000    0.0000    0.0000 C   0  0  0  0  0  0  0  0  0  0  0  0\n",
      "    0.0000    0.0000    0.0000 C   0  0  0  0  0  0  0  0  0  0  0  0\n",
      "    0.0000    0.0000    0.0000 C   0  0  0  0  0  0  0  0  0  0  0  0\n",
      "    0.0000    0.0000    0.0000 C   0  0  0  0  0  0  0  0  0  0  0  0\n",
      "    0.0000    0.0000    0.0000 C   0  0  0  0  0  0  0  0  0  0  0  0\n",
      "    0.0000    0.0000    0.0000 C   0  0  0  0  0  0  0  0  0  0  0  0\n",
      "    0.0000    0.0000    0.0000 C   0  0  0  0  0  0  0  0  0  0  0  0\n",
      "    0.0000    0.0000    0.0000 C   0  0  0  0  0  0  0  0  0  0  0  0\n",
      "    0.0000    0.0000    0.0000 C   0  0  0  0  0  0  0  0  0  0  0  0\n",
      "    0.0000    0.0000    0.0000 C   0  0  0  0  0  0  0  0  0  0  0  0\n",
      "  1  2  1  0  0  0  0 \n",
      "  2  3  1  0  0  0  0 \n",
      "  3  4  1  0  0  0  0 \n",
      "  4  5  1  0  0  0  0 \n",
      "  5  6  1  0  0  0  0 \n",
      "  1  7  1  0  0  0  0 \n",
      "  7  8  1  0  0  0  0 \n",
      "  8  9  1  0  0  0  0 \n",
      "  9 10  1  0  0  0  0 \n",
      " 10 11  2  0  0  0  0 \n",
      " 11 12  1  0  0  0  0 \n",
      " 12 13  2  0  0  0  0 \n",
      " 13 14  1  0  0  0  0 \n",
      " 14 15  2  0  0  0  0 \n",
      " 10 15  1  0  0  0  0 \n",
      "M  END\r\n",
      "$$$$\n"
     ]
    }
   ],
   "source": [
    "#retrieve SDF\n",
    "dataset = getCompound_similarity(http,query=\"c1ccccc1CCCCCC\",threshold=0.85, media=\"chemical/x-mdl-sdfile\", pagesize=2)\n",
    "print(dataset)"
   ]
  },
  {
   "cell_type": "code",
   "execution_count": 147,
   "metadata": {},
   "outputs": [
    {
     "name": "stdout",
     "output_type": "stream",
     "text": [
      "Compound,\"http://www.opentox.org/api/1.1#CASRN \",\"http://www.opentox.org/api/1.1#EINECS \",\"http://www.opentox.org/api/1.1#ChemicalName \",\"http://www.opentox.org/api/1.1#TradeName \",\"http://www.opentox.org/api/1.1#IUPACName \",\"http://www.opentox.org/api/1.1#IUCLID5_UUID \",\"http://www.opentox.org/api/1.1#SMILES \",\"http://www.opentox.org/api/1.1#InChI_std \",\"http://www.opentox.org/api/1.1#InChIKey_std \",\"metric \",SMILES\r\n",
      "https://apps.ideaconsult.net/excape/compound/539075/conformer/1915182,\"\",\"\",\"\",\"\",\"\",\"\",\"C(CCCCCC1=CC=CC=C1)CCCCCC\",\"InChI=1/C18H30/c1-2-3-4-5-6-7-8-9-10-12-15-18-16-13-11-14-17-18/h11,13-14,16-17H,2-10,12,15H2,1H3\",\"KWKXNDCHNDYVRT-UHFFFAOYNA-N\",\"0.92\",\r\n",
      "https://apps.ideaconsult.net/excape/compound/565257/conformer/1941364,\"\",\"\",\"\",\"\",\"\",\"\",\"C(CCCCC)CCCC1=CC=CC=C1\",\"InChI=1/C15H24/c1-2-3-4-5-6-7-9-12-15-13-10-8-11-14-15/h8,10-11,13-14H,2-7,9,12H2,1H3\",\"LIXVMPBOGDCSRM-UHFFFAOYNA-N\",\"0.92\",\r\n",
      "\n"
     ]
    }
   ],
   "source": [
    "#retrieve CSV\n",
    "dataset = getCompound_similarity(http,query=\"c1ccccc1CCCCCC\",threshold=0.85, media=\"text/csv\", pagesize=2)\n",
    "print(dataset)\n",
    "#for data_entry in dataset['dataEntry']:"
   ]
  },
  {
   "cell_type": "code",
   "execution_count": 168,
   "metadata": {},
   "outputs": [
    {
     "name": "stderr",
     "output_type": "stream",
     "text": [
      "2018-09-17 10:00:53,066  INFO     KWKXNDCHNDYVRT-UHFFFAOYNA-N https://apps.ideaconsult.net/excape/compound/539075/conformer/1915182\n",
      "\n",
      "2018-09-17 10:00:53,067  INFO     ExCAPE DB query for KWKXNDCHNDYVRT-UHFFFAOYNA-N\n",
      "2018-09-17 10:00:53,068  INFO     Sending query to https://solr.ideaconsult.net/solr/excape_shard1_replica1/select\n",
      "2018-09-17 10:00:53,121  INFO     Status 200\n",
      "2018-09-17 10:00:53,122  INFO     Received response found 997982 docs 1\n"
     ]
    },
    {
     "name": "stdout",
     "output_type": "stream",
     "text": [
      "{'compound': {'URI': 'https://apps.ideaconsult.net/excape/compound/539075/conformer/1915182', 'structype': 'D1', 'metric': 1.0, 'name': '', 'cas': '', 'einecs': ''}, 'values': {'https://apps.ideaconsult.net/excape/feature/http%3A%2F%2Fwww.opentox.org%2Fapi%2F1.1%23SMILESDefault': 'C(CCCCCC1=CC=CC=C1)CCCCCC', 'https://apps.ideaconsult.net/excape/feature/http%3A%2F%2Fwww.opentox.org%2Fapi%2F1.1%23InChI_stdDefault': 'InChI=1/C18H30/c1-2-3-4-5-6-7-8-9-10-12-15-18-16-13-11-14-17-18/h11,13-14,16-17H,2-10,12,15H2,1H3', 'https://apps.ideaconsult.net/excape/feature/http%3A%2F%2Fwww.opentox.org%2Fapi%2F1.1%23InChIKey_stdDefault': 'KWKXNDCHNDYVRT-UHFFFAOYNA-N'}, 'facets': [], 'bundles': {}}\n",
      "parseSolrRequest\n"
     ]
    },
    {
     "data": {
      "text/html": [
       "<div>\n",
       "<style scoped>\n",
       "    .dataframe tbody tr th:only-of-type {\n",
       "        vertical-align: middle;\n",
       "    }\n",
       "\n",
       "    .dataframe tbody tr th {\n",
       "        vertical-align: top;\n",
       "    }\n",
       "\n",
       "    .dataframe thead th {\n",
       "        text-align: right;\n",
       "    }\n",
       "</style>\n",
       "<table border=\"1\" class=\"dataframe\">\n",
       "  <thead>\n",
       "    <tr style=\"text-align: right;\">\n",
       "      <th></th>\n",
       "      <th>Entrez_ID</th>\n",
       "      <th>Tax_ID</th>\n",
       "      <th>content</th>\n",
       "      <th>doc_uuid</th>\n",
       "      <th>effectendpoint</th>\n",
       "      <th>endpointcategory</th>\n",
       "      <th>guidance</th>\n",
       "      <th>interpretation_result</th>\n",
       "      <th>name</th>\n",
       "      <th>owner_name</th>\n",
       "      <th>publicname</th>\n",
       "      <th>reference</th>\n",
       "      <th>reference_owner</th>\n",
       "      <th>reference_year</th>\n",
       "      <th>s_uuid</th>\n",
       "      <th>substanceType</th>\n",
       "      <th>topcategory</th>\n",
       "      <th>type_s</th>\n",
       "      <th>unit</th>\n",
       "    </tr>\n",
       "  </thead>\n",
       "  <tbody>\n",
       "    <tr>\n",
       "      <th>0</th>\n",
       "      <td>1588</td>\n",
       "      <td>9606</td>\n",
       "      <td></td>\n",
       "      <td>85c06f4c-3768-4f19-bf4c-6917abf8c622</td>\n",
       "      <td>pXC50</td>\n",
       "      <td>pubchem</td>\n",
       "      <td>CYP19A1</td>\n",
       "      <td>N</td>\n",
       "      <td>KWKXNDCHNDYVRT-UHFFFAOYNA-N</td>\n",
       "      <td>pubchem</td>\n",
       "      <td>31237</td>\n",
       "      <td>743083</td>\n",
       "      <td>pubchem</td>\n",
       "      <td>2016</td>\n",
       "      <td>KWKXNDCHNDYVRT-UHFFFAOYNA-N</td>\n",
       "      <td>pubchem</td>\n",
       "      <td>TOX</td>\n",
       "      <td>study</td>\n",
       "      <td></td>\n",
       "    </tr>\n",
       "  </tbody>\n",
       "</table>\n",
       "</div>"
      ],
      "text/plain": [
       "   Entrez_ID  Tax_ID content                              doc_uuid  \\\n",
       "0       1588    9606          85c06f4c-3768-4f19-bf4c-6917abf8c622   \n",
       "\n",
       "  effectendpoint endpointcategory guidance interpretation_result  \\\n",
       "0          pXC50          pubchem  CYP19A1                     N   \n",
       "\n",
       "                          name owner_name publicname  reference  \\\n",
       "0  KWKXNDCHNDYVRT-UHFFFAOYNA-N    pubchem      31237     743083   \n",
       "\n",
       "  reference_owner reference_year                       s_uuid substanceType  \\\n",
       "0         pubchem           2016  KWKXNDCHNDYVRT-UHFFFAOYNA-N       pubchem   \n",
       "\n",
       "  topcategory type_s unit  \n",
       "0         TOX  study       "
      ]
     },
     "metadata": {},
     "output_type": "display_data"
    },
    {
     "name": "stderr",
     "output_type": "stream",
     "text": [
      "2018-09-17 10:00:53,151  INFO     LIXVMPBOGDCSRM-UHFFFAOYNA-N https://apps.ideaconsult.net/excape/compound/565257/conformer/1941364\n",
      "\n",
      "2018-09-17 10:00:53,152  INFO     ExCAPE DB query for LIXVMPBOGDCSRM-UHFFFAOYNA-N\n",
      "2018-09-17 10:00:53,154  INFO     Sending query to https://solr.ideaconsult.net/solr/excape_shard1_replica1/select\n",
      "2018-09-17 10:00:53,174  INFO     Status 200\n",
      "2018-09-17 10:00:53,176  INFO     Received response found 997982 docs 1\n"
     ]
    },
    {
     "name": "stdout",
     "output_type": "stream",
     "text": [
      "{'compound': {'URI': 'https://apps.ideaconsult.net/excape/compound/565257/conformer/1941364', 'structype': 'D1', 'metric': 1.0, 'name': '', 'cas': '', 'einecs': ''}, 'values': {'https://apps.ideaconsult.net/excape/feature/http%3A%2F%2Fwww.opentox.org%2Fapi%2F1.1%23SMILESDefault': 'C(CCCCC)CCCC1=CC=CC=C1', 'https://apps.ideaconsult.net/excape/feature/http%3A%2F%2Fwww.opentox.org%2Fapi%2F1.1%23InChI_stdDefault': 'InChI=1/C15H24/c1-2-3-4-5-6-7-9-12-15-13-10-8-11-14-15/h8,10-11,13-14H,2-7,9,12H2,1H3', 'https://apps.ideaconsult.net/excape/feature/http%3A%2F%2Fwww.opentox.org%2Fapi%2F1.1%23InChIKey_stdDefault': 'LIXVMPBOGDCSRM-UHFFFAOYNA-N'}, 'facets': [], 'bundles': {}}\n",
      "parseSolrRequest\n"
     ]
    },
    {
     "data": {
      "text/html": [
       "<div>\n",
       "<style scoped>\n",
       "    .dataframe tbody tr th:only-of-type {\n",
       "        vertical-align: middle;\n",
       "    }\n",
       "\n",
       "    .dataframe tbody tr th {\n",
       "        vertical-align: top;\n",
       "    }\n",
       "\n",
       "    .dataframe thead th {\n",
       "        text-align: right;\n",
       "    }\n",
       "</style>\n",
       "<table border=\"1\" class=\"dataframe\">\n",
       "  <thead>\n",
       "    <tr style=\"text-align: right;\">\n",
       "      <th></th>\n",
       "      <th>Entrez_ID</th>\n",
       "      <th>Tax_ID</th>\n",
       "      <th>content</th>\n",
       "      <th>doc_uuid</th>\n",
       "      <th>effectendpoint</th>\n",
       "      <th>endpointcategory</th>\n",
       "      <th>guidance</th>\n",
       "      <th>interpretation_result</th>\n",
       "      <th>name</th>\n",
       "      <th>owner_name</th>\n",
       "      <th>publicname</th>\n",
       "      <th>reference</th>\n",
       "      <th>reference_owner</th>\n",
       "      <th>reference_year</th>\n",
       "      <th>s_uuid</th>\n",
       "      <th>substanceType</th>\n",
       "      <th>topcategory</th>\n",
       "      <th>type_s</th>\n",
       "      <th>unit</th>\n",
       "    </tr>\n",
       "  </thead>\n",
       "  <tbody>\n",
       "    <tr>\n",
       "      <th>0</th>\n",
       "      <td>196</td>\n",
       "      <td>9606</td>\n",
       "      <td></td>\n",
       "      <td>55880fe2-871f-4315-9ceb-cfd5e28dc737</td>\n",
       "      <td>pXC50</td>\n",
       "      <td>pubchem</td>\n",
       "      <td>AHR</td>\n",
       "      <td>N</td>\n",
       "      <td>LIXVMPBOGDCSRM-UHFFFAOYNA-N</td>\n",
       "      <td>pubchem</td>\n",
       "      <td>14126</td>\n",
       "      <td>651777</td>\n",
       "      <td>pubchem</td>\n",
       "      <td>2016</td>\n",
       "      <td>LIXVMPBOGDCSRM-UHFFFAOYNA-N</td>\n",
       "      <td>pubchem</td>\n",
       "      <td>TOX</td>\n",
       "      <td>study</td>\n",
       "      <td></td>\n",
       "    </tr>\n",
       "  </tbody>\n",
       "</table>\n",
       "</div>"
      ],
      "text/plain": [
       "   Entrez_ID  Tax_ID content                              doc_uuid  \\\n",
       "0        196    9606          55880fe2-871f-4315-9ceb-cfd5e28dc737   \n",
       "\n",
       "  effectendpoint endpointcategory guidance interpretation_result  \\\n",
       "0          pXC50          pubchem      AHR                     N   \n",
       "\n",
       "                          name owner_name publicname  reference  \\\n",
       "0  LIXVMPBOGDCSRM-UHFFFAOYNA-N    pubchem      14126     651777   \n",
       "\n",
       "  reference_owner reference_year                       s_uuid substanceType  \\\n",
       "0         pubchem           2016  LIXVMPBOGDCSRM-UHFFFAOYNA-N       pubchem   \n",
       "\n",
       "  topcategory type_s unit  \n",
       "0         TOX  study       "
      ]
     },
     "metadata": {},
     "output_type": "display_data"
    }
   ],
   "source": [
    "#retrieve JSON\n",
    "data_j = getCompound_similarity(http,query=\"C(CCCCCC1=CC=CC=C1)CCCCCC\",threshold=0.85, media=\"application/json\", pagesize=2)\n",
    "compound = json.loads(data_j)\n",
    "for data_entry in compound['dataEntry']:\n",
    "    print(data_entry)\n",
    "    uri = data_entry['compound']['URI']\n",
    "    inchikey = data_entry['values']['https://apps.ideaconsult.net/excape/feature/http%3A%2F%2Fwww.opentox.org%2Fapi%2F1.1%23InChIKey_stdDefault']\n",
    "    logger.info('{} {}\\n'.format(inchikey,uri))\n",
    "    query = getSolrQuery(q=inchikey)\n",
    "    logger.info('ExCAPE DB query for %s',query['q'])\n",
    "    excabedb_values = sendSolrRequest(httpmanager,query,nrows=1)\n",
    "    display(pd.DataFrame(excabedb_values).head())"
   ]
  },
  {
   "cell_type": "markdown",
   "metadata": {},
   "source": [
    "### That's all."
   ]
  },
  {
   "cell_type": "markdown",
   "metadata": {},
   "source": [
    "More info on AMBIT at http://ambit.sourceforge.net/ \n",
    "Example client code https://github.com/ideaconsult/apps-ambit"
   ]
  }
 ],
 "metadata": {
  "kernelspec": {
   "display_name": "Python 3",
   "language": "python",
   "name": "python3"
  },
  "language_info": {
   "codemirror_mode": {
    "name": "ipython",
    "version": 3
   },
   "file_extension": ".py",
   "mimetype": "text/x-python",
   "name": "python",
   "nbconvert_exporter": "python",
   "pygments_lexer": "ipython3",
   "version": "3.6.4"
  }
 },
 "nbformat": 4,
 "nbformat_minor": 2
}
